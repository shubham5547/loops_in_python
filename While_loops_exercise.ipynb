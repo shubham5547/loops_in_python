{
 "cells": [
  {
   "cell_type": "code",
   "execution_count": 1,
   "metadata": {
    "scrolled": true
   },
   "outputs": [
    {
     "name": "stdout",
     "output_type": "stream",
     "text": [
      "hello shubh ! \n",
      "hello shubh ! \n",
      "hello shubh ! \n",
      "hello shubh ! \n",
      "hello shubh ! \n",
      "hello shubh ! \n",
      "hello shubh ! \n",
      "hello shubh ! \n",
      "hello shubh ! \n",
      "hello shubh ! \n"
     ]
    }
   ],
   "source": [
    "i = 1\n",
    "while i<=10:\n",
    "    print(\"hello shubh ! \")\n",
    "    i = i + 1"
   ]
  },
  {
   "cell_type": "code",
   "execution_count": 4,
   "metadata": {},
   "outputs": [
    {
     "name": "stdout",
     "output_type": "stream",
     "text": [
      "hello world 1 !\n",
      "hello world 2 !\n",
      "hello world 3 !\n",
      "hello world 4 !\n",
      "hello world 5 !\n",
      "hello world 6 !\n",
      "hello world 7 !\n",
      "hello world 8 !\n",
      "hello world 9 !\n",
      "hello world 10 !\n"
     ]
    }
   ],
   "source": [
    "# if you wanna check value of variables.\n",
    "\n",
    "i = 1\n",
    "while i<=10:\n",
    "    print(f\"hello world {i} !\")\n",
    "    i = i+1\n",
    "    "
   ]
  },
  {
   "cell_type": "code",
   "execution_count": 5,
   "metadata": {},
   "outputs": [
    {
     "name": "stdout",
     "output_type": "stream",
     "text": [
      "hello world 1 !\n",
      "hello world 3 !\n",
      "hello world 5 !\n",
      "hello world 7 !\n",
      "hello world 9 !\n"
     ]
    }
   ],
   "source": [
    "i = 1\n",
    "while i<=10:\n",
    "    print(f\"hello world {i} !\")\n",
    "    i = i+2\n",
    "    "
   ]
  },
  {
   "cell_type": "code",
   "execution_count": 6,
   "metadata": {},
   "outputs": [
    {
     "name": "stdout",
     "output_type": "stream",
     "text": [
      "hello world 2 !\n",
      "hello world 4 !\n",
      "hello world 6 !\n",
      "hello world 8 !\n",
      "hello world 10 !\n"
     ]
    }
   ],
   "source": [
    "i = 2\n",
    "while i<=10:\n",
    "    print(f\"hello world {i} !\")\n",
    "    i = i+2\n",
    "    "
   ]
  },
  {
   "cell_type": "code",
   "execution_count": 6,
   "metadata": {},
   "outputs": [
    {
     "name": "stdout",
     "output_type": "stream",
     "text": [
      "55\n"
     ]
    }
   ],
   "source": [
    "# sum : 1 to 10(or any number)\n",
    "total = 0\n",
    "i = 1\n",
    "while i<=10:\n",
    "    total = total + i\n",
    "    i += 1\n",
    "print(total)\n",
    "    \n"
   ]
  },
  {
   "cell_type": "code",
   "execution_count": 7,
   "metadata": {},
   "outputs": [
    {
     "name": "stdout",
     "output_type": "stream",
     "text": [
      "325\n"
     ]
    }
   ],
   "source": [
    "# sum : 1 to 10(or any number)\n",
    "total = 0\n",
    "i = 1\n",
    "while i<=25:\n",
    "    total = total + i\n",
    "    i += 1\n",
    "print(total)\n",
    "    "
   ]
  },
  {
   "cell_type": "code",
   "execution_count": 8,
   "metadata": {},
   "outputs": [],
   "source": [
    "# sum of natural numbers\n",
    "# ask a user for natural number (n)\n",
    "# print total number"
   ]
  },
  {
   "cell_type": "code",
   "execution_count": 16,
   "metadata": {},
   "outputs": [
    {
     "name": "stdout",
     "output_type": "stream",
     "text": [
      "enter natural number : 10\n",
      "55\n"
     ]
    }
   ],
   "source": [
    "\n",
    "n = int(input(\"enter natural number : \"))\n",
    "total = 0\n",
    "i = 1\n",
    "while i<=n:\n",
    "    total = total + i\n",
    "    i += 1\n",
    "print(total)\n",
    "        \n",
    "        "
   ]
  },
  {
   "cell_type": "code",
   "execution_count": 17,
   "metadata": {},
   "outputs": [],
   "source": [
    "# ask user to input a number containing more than one digit\n",
    "# example - 1256\n",
    "# calculate 1+2+5+6 and print"
   ]
  },
  {
   "cell_type": "code",
   "execution_count": 4,
   "metadata": {},
   "outputs": [
    {
     "name": "stdout",
     "output_type": "stream",
     "text": [
      "enter number more than one digit : 5656\n",
      "22\n"
     ]
    }
   ],
   "source": [
    "n = input(\"enter number more than one digit : \")\n",
    "total = 0\n",
    "i = 0\n",
    "while i < len(n):\n",
    "    total = total + int(n[i])\n",
    "    i += 1\n",
    "print(total)"
   ]
  },
  {
   "cell_type": "code",
   "execution_count": 6,
   "metadata": {},
   "outputs": [
    {
     "name": "stdout",
     "output_type": "stream",
     "text": [
      "enter number more than one digit : 8520\n",
      "15\n"
     ]
    }
   ],
   "source": [
    "n = input(\"enter number more than one digit : \")\n",
    "total = 0\n",
    "i = 0\n",
    "while i < len(n):\n",
    "    total = total + int(n[i])\n",
    "    i += 1\n",
    "print(total)"
   ]
  },
  {
   "cell_type": "code",
   "execution_count": 8,
   "metadata": {},
   "outputs": [],
   "source": [
    "# ASK A USER FOR NAME\n",
    "# PRINT COUNT OF EACH WORD WITH SPACE\n",
    "# EXAMPLE - HARSHIT \n",
    "# OUTPUT:\n",
    "#     H - 2\n",
    "#     A - 1\n",
    "#     R - 1....\n",
    "    "
   ]
  },
  {
   "cell_type": "code",
   "execution_count": 18,
   "metadata": {},
   "outputs": [
    {
     "name": "stdout",
     "output_type": "stream",
     "text": [
      "enter your name : shubham sharma\n",
      "s : 2\n",
      "h : 3\n",
      "u : 1\n",
      "b : 1\n",
      "a : 3\n",
      "m : 2\n",
      "  : 1\n",
      "r : 1\n"
     ]
    }
   ],
   "source": [
    "Name = input(\"enter your name : \")\n",
    "Repeated_var = \"\"\n",
    "i = 0\n",
    "while i < len(Name):\n",
    "    if Name[i] not in Repeated_var:\n",
    "        Repeated_var += Name[i]\n",
    "        print(f\"{Name[i]} : {Name.count(Name[i])}\")\n",
    "    i += 1"
   ]
  },
  {
   "cell_type": "code",
   "execution_count": 19,
   "metadata": {},
   "outputs": [
    {
     "name": "stdout",
     "output_type": "stream",
     "text": [
      "enter your name : anuj upadhyay\n",
      "a : 3\n",
      "n : 1\n",
      "u : 2\n",
      "j : 1\n",
      "  : 1\n",
      "p : 1\n",
      "d : 1\n",
      "h : 1\n",
      "y : 2\n"
     ]
    }
   ],
   "source": [
    "Name = input(\"enter your name : \")\n",
    "Repeated_var = \"\"\n",
    "i = 0\n",
    "while i < len(Name):\n",
    "    if Name[i] not in Repeated_var:\n",
    "        Repeated_var += Name[i]\n",
    "        print(f\"{Name[i]} : {Name.count(Name[i])}\")\n",
    "    i += 1"
   ]
  },
  {
   "cell_type": "code",
   "execution_count": null,
   "metadata": {},
   "outputs": [],
   "source": []
  }
 ],
 "metadata": {
  "kernelspec": {
   "display_name": "Python 3",
   "language": "python",
   "name": "python3"
  },
  "language_info": {
   "codemirror_mode": {
    "name": "ipython",
    "version": 3
   },
   "file_extension": ".py",
   "mimetype": "text/x-python",
   "name": "python",
   "nbconvert_exporter": "python",
   "pygments_lexer": "ipython3",
   "version": "3.7.6"
  }
 },
 "nbformat": 4,
 "nbformat_minor": 4
}
