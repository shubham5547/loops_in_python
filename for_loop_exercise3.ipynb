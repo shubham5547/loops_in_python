{
 "cells": [
  {
   "cell_type": "code",
   "execution_count": 4,
   "metadata": {},
   "outputs": [
    {
     "name": "stdout",
     "output_type": "stream",
     "text": [
      "enter your name : shubham kumar sharma\n",
      "s : 2\n",
      "h : 3\n",
      "u : 2\n",
      "b : 1\n",
      "a : 4\n",
      "m : 3\n",
      "  : 2\n",
      "k : 1\n",
      "r : 2\n"
     ]
    }
   ],
   "source": [
    "name = input(\"enter your name : \")\n",
    "temp = \"\"\n",
    "for num in range(0,len(name)):\n",
    "    if name[num] not in temp:\n",
    "        print(f\"{name[num]} : {name.count(name[num])}\")\n",
    "        temp += name[num]"
   ]
  },
  {
   "cell_type": "code",
   "execution_count": 6,
   "metadata": {},
   "outputs": [
    {
     "name": "stdout",
     "output_type": "stream",
     "text": [
      "enter your name : anuj upadhyay\n",
      "a : 3\n",
      "n : 1\n",
      "u : 2\n",
      "j : 1\n",
      "  : 1\n",
      "p : 1\n",
      "d : 1\n",
      "h : 1\n",
      "y : 2\n"
     ]
    }
   ],
   "source": [
    "name = input(\"enter your name : \")\n",
    "temp = \"\"\n",
    "for x in range(0,len(name)):\n",
    "    if name[x] not in temp:\n",
    "        print(f\"{name[x]} : {name.count(name[x])}\")\n",
    "        temp += name[x]"
   ]
  },
  {
   "cell_type": "code",
   "execution_count": null,
   "metadata": {},
   "outputs": [],
   "source": []
  }
 ],
 "metadata": {
  "kernelspec": {
   "display_name": "Python 3",
   "language": "python",
   "name": "python3"
  },
  "language_info": {
   "codemirror_mode": {
    "name": "ipython",
    "version": 3
   },
   "file_extension": ".py",
   "mimetype": "text/x-python",
   "name": "python",
   "nbconvert_exporter": "python",
   "pygments_lexer": "ipython3",
   "version": "3.7.6"
  }
 },
 "nbformat": 4,
 "nbformat_minor": 4
}
