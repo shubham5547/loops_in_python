{
 "cells": [
  {
   "cell_type": "code",
   "execution_count": 1,
   "metadata": {},
   "outputs": [],
   "source": [
    "# for loop"
   ]
  },
  {
   "cell_type": "code",
   "execution_count": 3,
   "metadata": {},
   "outputs": [
    {
     "name": "stdout",
     "output_type": "stream",
     "text": [
      "hello world\n",
      "hello world\n",
      "hello world\n",
      "hello world\n",
      "hello world\n",
      "hello world\n",
      "hello world\n",
      "hello world\n",
      "hello world\n",
      "hello world\n"
     ]
    }
   ],
   "source": [
    "for num in range (0,10):\n",
    "    print(\"hello world\")"
   ]
  },
  {
   "cell_type": "code",
   "execution_count": 4,
   "metadata": {},
   "outputs": [
    {
     "name": "stdout",
     "output_type": "stream",
     "text": [
      "hello world : 0\n",
      "hello world : 1\n",
      "hello world : 2\n",
      "hello world : 3\n",
      "hello world : 4\n",
      "hello world : 5\n",
      "hello world : 6\n",
      "hello world : 7\n",
      "hello world : 8\n",
      "hello world : 9\n",
      "hello world : 10\n"
     ]
    }
   ],
   "source": [
    "for num in range(0,11):\n",
    "    print(f\"hello world : {num}\")"
   ]
  },
  {
   "cell_type": "code",
   "execution_count": 10,
   "metadata": {},
   "outputs": [
    {
     "name": "stdout",
     "output_type": "stream",
     "text": [
      "hello shubh : 2\n",
      "this is my name\n",
      "hello shubh : 3\n",
      "this is my name\n",
      "hello shubh : 4\n",
      "this is my name\n",
      "hello shubh : 5\n",
      "this is my name\n",
      "hello shubh : 6\n",
      "this is my name\n",
      "hello shubh : 7\n",
      "this is my name\n",
      "hello shubh : 8\n",
      "this is my name\n",
      "hello shubh : 9\n",
      "this is my name\n"
     ]
    }
   ],
   "source": [
    "for num in range (2, 10):\n",
    "    print(f\"hello shubh : {num}\")\n",
    "    \n",
    "    print(\"this is my name\")\n",
    "    "
   ]
  },
  {
   "cell_type": "code",
   "execution_count": 11,
   "metadata": {},
   "outputs": [],
   "source": [
    "# sum from 1 to 10\n",
    "# 1+2+3+4+........10"
   ]
  },
  {
   "cell_type": "code",
   "execution_count": 12,
   "metadata": {},
   "outputs": [
    {
     "name": "stdout",
     "output_type": "stream",
     "text": [
      "55\n"
     ]
    }
   ],
   "source": [
    "total = 0\n",
    "for num in range(1,11):\n",
    "    total += num\n",
    "print(total)"
   ]
  },
  {
   "cell_type": "code",
   "execution_count": 15,
   "metadata": {},
   "outputs": [
    {
     "name": "stdout",
     "output_type": "stream",
     "text": [
      "1\n",
      "3\n",
      "6\n",
      "10\n",
      "15\n",
      "21\n",
      "28\n",
      "36\n",
      "45\n",
      "55\n"
     ]
    }
   ],
   "source": [
    "total = 0\n",
    "for num in range(1,11):\n",
    "    total += num\n",
    "    print(total) \n",
    "    # output change just because of indentation"
   ]
  },
  {
   "cell_type": "code",
   "execution_count": 16,
   "metadata": {},
   "outputs": [
    {
     "name": "stdout",
     "output_type": "stream",
     "text": [
      "enter a number : 20\n",
      "210\n"
     ]
    }
   ],
   "source": [
    "user_input = int(input(\"enter a number : \"))\n",
    "n = user_input\n",
    "total = 0\n",
    "for num in range(1,n+1):\n",
    "    total += num\n",
    "print(total)\n"
   ]
  },
  {
   "cell_type": "code",
   "execution_count": 17,
   "metadata": {},
   "outputs": [
    {
     "name": "stdout",
     "output_type": "stream",
     "text": [
      "enter a number : 50\n",
      "1275\n"
     ]
    }
   ],
   "source": [
    "user_input = int(input(\"enter a number : \"))\n",
    "n = user_input\n",
    "total = 0\n",
    "for num in range(1,n+1):\n",
    "    total += num\n",
    "print(total)\n"
   ]
  },
  {
   "cell_type": "code",
   "execution_count": null,
   "metadata": {},
   "outputs": [],
   "source": []
  }
 ],
 "metadata": {
  "kernelspec": {
   "display_name": "Python 3",
   "language": "python",
   "name": "python3"
  },
  "language_info": {
   "codemirror_mode": {
    "name": "ipython",
    "version": 3
   },
   "file_extension": ".py",
   "mimetype": "text/x-python",
   "name": "python",
   "nbconvert_exporter": "python",
   "pygments_lexer": "ipython3",
   "version": "3.7.6"
  }
 },
 "nbformat": 4,
 "nbformat_minor": 4
}
